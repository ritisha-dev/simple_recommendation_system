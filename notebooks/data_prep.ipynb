{
 "cells": [
  {
   "cell_type": "code",
   "execution_count": 1,
   "metadata": {},
   "outputs": [],
   "source": [
    "%load_ext autoreload\n",
    "%autoreload 2"
   ]
  },
  {
   "cell_type": "code",
   "execution_count": 2,
   "metadata": {},
   "outputs": [],
   "source": [
    "import pandas as pd\n",
    "import numpy as np\n",
    "import matplotlib.pyplot as plt\n",
    "import seaborn as sns\n",
    "import os\n",
    "\n",
    "os.chdir(os.path.dirname(os.getcwd()))\n",
    "from src.preprocess.preprocess import Preprocess\n",
    "from src.feat_engg.feat import Features\n",
    "\n",
    "path = \"data\""
   ]
  },
  {
   "cell_type": "code",
   "execution_count": 3,
   "metadata": {},
   "outputs": [
    {
     "name": "stderr",
     "output_type": "stream",
     "text": [
      "/var/folders/nb/j0fz9mcs1lv5q2y83pmm1rfc0000gp/T/ipykernel_5633/794886691.py:2: DtypeWarning: Columns (3) have mixed types. Specify dtype option on import or set low_memory=False.\n",
      "  books = pd.read_csv(\"data/raw_data/books.csv\")\n"
     ]
    }
   ],
   "source": [
    "users = pd.read_csv(\"data/raw_data/users.csv\")\n",
    "books = pd.read_csv(\"data/raw_data/books.csv\")\n",
    "ratings = pd.read_csv(\"data/raw_data/ratings.csv\")"
   ]
  },
  {
   "cell_type": "code",
   "execution_count": 4,
   "metadata": {},
   "outputs": [
    {
     "name": "stdout",
     "output_type": "stream",
     "text": [
      "<class 'pandas.core.frame.DataFrame'>\n",
      "RangeIndex: 278858 entries, 0 to 278857\n",
      "Data columns (total 3 columns):\n",
      " #   Column    Non-Null Count   Dtype  \n",
      "---  ------    --------------   -----  \n",
      " 0   User-ID   278858 non-null  int64  \n",
      " 1   Location  278858 non-null  object \n",
      " 2   Age       168096 non-null  float64\n",
      "dtypes: float64(1), int64(1), object(1)\n",
      "memory usage: 6.4+ MB\n"
     ]
    },
    {
     "data": {
      "text/plain": [
       "None"
      ]
     },
     "metadata": {},
     "output_type": "display_data"
    }
   ],
   "source": [
    "display(users.info())"
   ]
  },
  {
   "cell_type": "code",
   "execution_count": 5,
   "metadata": {},
   "outputs": [
    {
     "name": "stdout",
     "output_type": "stream",
     "text": [
      "278858\n"
     ]
    }
   ],
   "source": [
    "print(users[\"User-ID\"].nunique())"
   ]
  },
  {
   "cell_type": "code",
   "execution_count": 6,
   "metadata": {},
   "outputs": [
    {
     "name": "stdout",
     "output_type": "stream",
     "text": [
      "<class 'pandas.core.frame.DataFrame'>\n",
      "RangeIndex: 271360 entries, 0 to 271359\n",
      "Data columns (total 8 columns):\n",
      " #   Column               Non-Null Count   Dtype \n",
      "---  ------               --------------   ----- \n",
      " 0   ISBN                 271360 non-null  object\n",
      " 1   Book-Title           271360 non-null  object\n",
      " 2   Book-Author          271358 non-null  object\n",
      " 3   Year-Of-Publication  271360 non-null  object\n",
      " 4   Publisher            271358 non-null  object\n",
      " 5   Image-URL-S          271360 non-null  object\n",
      " 6   Image-URL-M          271360 non-null  object\n",
      " 7   Image-URL-L          271357 non-null  object\n",
      "dtypes: object(8)\n",
      "memory usage: 16.6+ MB\n"
     ]
    },
    {
     "data": {
      "text/plain": [
       "None"
      ]
     },
     "metadata": {},
     "output_type": "display_data"
    }
   ],
   "source": [
    "display(books.info())\n",
    "for col in books.columns:\n",
    "   books[col] = books[col].astype(str)"
   ]
  },
  {
   "cell_type": "code",
   "execution_count": 7,
   "metadata": {},
   "outputs": [
    {
     "name": "stdout",
     "output_type": "stream",
     "text": [
      "<class 'pandas.core.frame.DataFrame'>\n",
      "RangeIndex: 1149780 entries, 0 to 1149779\n",
      "Data columns (total 3 columns):\n",
      " #   Column       Non-Null Count    Dtype \n",
      "---  ------       --------------    ----- \n",
      " 0   User-ID      1149780 non-null  int64 \n",
      " 1   ISBN         1149780 non-null  object\n",
      " 2   Book-Rating  1149780 non-null  int64 \n",
      "dtypes: int64(2), object(1)\n",
      "memory usage: 26.3+ MB\n"
     ]
    },
    {
     "data": {
      "text/plain": [
       "None"
      ]
     },
     "metadata": {},
     "output_type": "display_data"
    }
   ],
   "source": [
    "display(ratings.info())"
   ]
  },
  {
   "cell_type": "code",
   "execution_count": 3,
   "metadata": {},
   "outputs": [
    {
     "name": "stderr",
     "output_type": "stream",
     "text": [
      "/Users/ritisha/projects/simple_recommendation/src/preprocess/preprocess.py:15: DtypeWarning: Columns (3) have mixed types. Specify dtype option on import or set low_memory=False.\n",
      "  df_books = pd.read_csv(self.path + \"/raw_data/Books.csv\")\n"
     ]
    },
    {
     "name": "stdout",
     "output_type": "stream",
     "text": [
      "Data has been preprocessed and saved to data/preprocessed/preprocessed_data.csv\n"
     ]
    }
   ],
   "source": [
    "#Preprocess data move to class to modularize code\n",
    "\n",
    "pp = Preprocess(path)\n",
    "pp.main()"
   ]
  },
  {
   "cell_type": "code",
   "execution_count": 6,
   "metadata": {},
   "outputs": [
    {
     "name": "stderr",
     "output_type": "stream",
     "text": [
      "/var/folders/nb/j0fz9mcs1lv5q2y83pmm1rfc0000gp/T/ipykernel_5656/3995268352.py:1: DtypeWarning: Columns (7) have mixed types. Specify dtype option on import or set low_memory=False.\n",
      "  all_data=pd.read_csv(\"data/preprocessed/preprocessed_data.csv\")\n"
     ]
    }
   ],
   "source": [
    "all_data=pd.read_csv(\"data/preprocessed/preprocessed_data.csv\")"
   ]
  },
  {
   "cell_type": "markdown",
   "metadata": {},
   "source": [
    "We have 278,858 unique users in the data. We have 271,360 books in the dataset. "
   ]
  },
  {
   "cell_type": "code",
   "execution_count": 176,
   "metadata": {},
   "outputs": [
    {
     "data": {
      "text/plain": [
       "(1323367, 12)"
      ]
     },
     "metadata": {},
     "output_type": "display_data"
    }
   ],
   "source": [
    "display(all_data.shape)"
   ]
  },
  {
   "cell_type": "code",
   "execution_count": 8,
   "metadata": {},
   "outputs": [
    {
     "name": "stderr",
     "output_type": "stream",
     "text": [
      "/Users/ritisha/projects/simple_recommendation/src/feat_engg/feat.py:14: DtypeWarning: Columns (7) have mixed types. Specify dtype option on import or set low_memory=False.\n",
      "  df = pd.read_csv(self.path + \"preprocessed/preprocessed_data.csv\")\n"
     ]
    },
    {
     "name": "stdout",
     "output_type": "stream",
     "text": [
      "Features have been generated and saved to data/features/feat_data.csv\n",
      "User-Item similarity scores have been generated and saved to datafeatures/item_similarity.csv\n"
     ]
    }
   ],
   "source": [
    "# Create User Level Features\n",
    "# Mean Rating Given by user\n",
    "# Number of ratings given by user\n",
    "# Create Book Level Features\n",
    "\n",
    "ft = Features(path)\n",
    "ft.main()"
   ]
  },
  {
   "cell_type": "code",
   "execution_count": 10,
   "metadata": {},
   "outputs": [
    {
     "name": "stderr",
     "output_type": "stream",
     "text": [
      "/var/folders/nb/j0fz9mcs1lv5q2y83pmm1rfc0000gp/T/ipykernel_5656/820184705.py:1: DtypeWarning: Columns (7) have mixed types. Specify dtype option on import or set low_memory=False.\n",
      "  feat_df = pd.read_csv(f\"{path}/features/feat_data.csv\")\n"
     ]
    }
   ],
   "source": [
    "feat_df = pd.read_csv(f\"{path}/features/feat_data.csv\")"
   ]
  },
  {
   "cell_type": "code",
   "execution_count": 11,
   "metadata": {},
   "outputs": [
    {
     "name": "stderr",
     "output_type": "stream",
     "text": [
      "/var/folders/nb/j0fz9mcs1lv5q2y83pmm1rfc0000gp/T/ipykernel_5656/1705512792.py:1: DtypeWarning: Columns (1) have mixed types. Specify dtype option on import or set low_memory=False.\n",
      "  item_similarity_df = pd.read_csv(f\"{path}/features/item_similarity.csv\")\n"
     ]
    }
   ],
   "source": [
    "item_similarity_df = pd.read_csv(f\"{path}/features/item_similarity.csv\")"
   ]
  },
  {
   "cell_type": "code",
   "execution_count": 12,
   "metadata": {},
   "outputs": [],
   "source": [
    "books_by_author = (\n",
    "    feat_df.groupby(\"book_author\")\n",
    "    .aggregate({\"isbn\": \"nunique\"})\n",
    "    .reset_index()\n",
    "    .sort_values(\"isbn\", ascending=False)\n",
    "    .head(10)\n",
    ")\n",
    "ratings_by_author = (\n",
    "    feat_df.groupby(\"book_author\")\n",
    "    .aggregate({\"book_rating_weighted\": \"max\"})\n",
    "    .reset_index()\n",
    "    .sort_values(\"book_rating_weighted\", ascending=False)\n",
    "    .head(10)\n",
    ")"
   ]
  },
  {
   "cell_type": "code",
   "execution_count": 13,
   "metadata": {},
   "outputs": [
    {
     "data": {
      "image/png": "[encoded data removed]",
      "text/plain": [
       "<Figure size 2000x500 with 2 Axes>"
      ]
     },
     "metadata": {},
     "output_type": "display_data"
    }
   ],
   "source": [
    "plt.style.use(\"ggplot\")\n",
    "plt.figure(figsize=(20, 5))\n",
    "plt.subplot(1, 2, 1)\n",
    "plt.barh(books_by_author[\"book_author\"], books_by_author[\"isbn\"])\n",
    "plt.xticks(rotation=10)\n",
    "plt.title(\"Top 10 authors with most books\")\n",
    "plt.subplot(1, 2, 2)\n",
    "plt.barh(ratings_by_author[\"book_author\"], ratings_by_author[\"book_rating_weighted\"])\n",
    "plt.xticks(rotation=10)\n",
    "plt.title(\"Top 10 rated authors\")\n",
    "plt.show()"
   ]
  },
  {
   "cell_type": "code",
   "execution_count": 23,
   "metadata": {},
   "outputs": [
    {
     "data": {
      "text/html": [
       "<div>\n",
       "<style scoped>\n",
       "    .dataframe tbody tr th:only-of-type {\n",
       "        vertical-align: middle;\n",
       "    }\n",
       "\n",
       "    .dataframe tbody tr th {\n",
       "        vertical-align: top;\n",
       "    }\n",
       "\n",
       "    .dataframe thead th {\n",
       "        text-align: right;\n",
       "    }\n",
       "</style>\n",
       "<table border=\"1\" class=\"dataframe\">\n",
       "  <thead>\n",
       "    <tr style=\"text-align: right;\">\n",
       "      <th></th>\n",
       "      <th>isbn_self</th>\n",
       "      <th>isbn</th>\n",
       "      <th>user_item_similarity</th>\n",
       "    </tr>\n",
       "  </thead>\n",
       "  <tbody>\n",
       "    <tr>\n",
       "      <th>141306772</th>\n",
       "      <td>0515131105</td>\n",
       "      <td>1551666308</td>\n",
       "      <td>1.0</td>\n",
       "    </tr>\n",
       "    <tr>\n",
       "      <th>88877330</th>\n",
       "      <td>0671568825</td>\n",
       "      <td>0671778730</td>\n",
       "      <td>1.0</td>\n",
       "    </tr>\n",
       "    <tr>\n",
       "      <th>59392741</th>\n",
       "      <td>0373272367</td>\n",
       "      <td>0553240390</td>\n",
       "      <td>1.0</td>\n",
       "    </tr>\n",
       "    <tr>\n",
       "      <th>44038723</th>\n",
       "      <td>0373764677</td>\n",
       "      <td>451197860</td>\n",
       "      <td>1.0</td>\n",
       "    </tr>\n",
       "    <tr>\n",
       "      <th>9259843</th>\n",
       "      <td>0373272367</td>\n",
       "      <td>0373764677</td>\n",
       "      <td>1.0</td>\n",
       "    </tr>\n",
       "    <tr>\n",
       "      <th>59392954</th>\n",
       "      <td>0373764677</td>\n",
       "      <td>0553240390</td>\n",
       "      <td>1.0</td>\n",
       "    </tr>\n",
       "    <tr>\n",
       "      <th>44038510</th>\n",
       "      <td>0373272367</td>\n",
       "      <td>451197860</td>\n",
       "      <td>1.0</td>\n",
       "    </tr>\n",
       "    <tr>\n",
       "      <th>59398036</th>\n",
       "      <td>0451197860</td>\n",
       "      <td>0553240390</td>\n",
       "      <td>1.0</td>\n",
       "    </tr>\n",
       "    <tr>\n",
       "      <th>84664058</th>\n",
       "      <td>0140119698</td>\n",
       "      <td>067167725X</td>\n",
       "      <td>1.0</td>\n",
       "    </tr>\n",
       "    <tr>\n",
       "      <th>119260412</th>\n",
       "      <td>0451402502</td>\n",
       "      <td>0804112975</td>\n",
       "      <td>1.0</td>\n",
       "    </tr>\n",
       "  </tbody>\n",
       "</table>\n",
       "</div>"
      ],
      "text/plain": [
       "            isbn_self        isbn  user_item_similarity\n",
       "141306772  0515131105  1551666308                   1.0\n",
       "88877330   0671568825  0671778730                   1.0\n",
       "59392741   0373272367  0553240390                   1.0\n",
       "44038723   0373764677   451197860                   1.0\n",
       "9259843    0373272367  0373764677                   1.0\n",
       "59392954   0373764677  0553240390                   1.0\n",
       "44038510   0373272367   451197860                   1.0\n",
       "59398036   0451197860  0553240390                   1.0\n",
       "84664058   0140119698  067167725X                   1.0\n",
       "119260412  0451402502  0804112975                   1.0"
      ]
     },
     "metadata": {},
     "output_type": "display_data"
    }
   ],
   "source": [
    "display(item_similarity_df[item_similarity_df[\"isbn_self\"]!=item_similarity_df[\"isbn\"]].sort_values(\"user_item_similarity\", ascending=False).head(10))"
   ]
  }
 ],
 "metadata": {
  "kernelspec": {
   "display_name": "Python 3",
   "language": "python",
   "name": "python3"
  },
  "language_info": {
   "codemirror_mode": {
    "name": "ipython",
    "version": 3
   },
   "file_extension": ".py",
   "mimetype": "text/x-python",
   "name": "python",
   "nbconvert_exporter": "python",
   "pygments_lexer": "ipython3",
   "version": "3.13.0"
  }
 },
 "nbformat": 4,
 "nbformat_minor": 2
}
