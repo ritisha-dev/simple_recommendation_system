{
 "cells": [
  {
   "cell_type": "code",
   "execution_count": 1,
   "metadata": {},
   "outputs": [],
   "source": [
    "%load_ext autoreload\n",
    "%autoreload 2"
   ]
  },
  {
   "cell_type": "code",
   "execution_count": 2,
   "metadata": {},
   "outputs": [],
   "source": [
    "import os\n",
    "os.chdir(os.path.dirname(os.getcwd()))"
   ]
  },
  {
   "cell_type": "code",
   "execution_count": 3,
   "metadata": {},
   "outputs": [],
   "source": [
    "import pandas as pd\n",
    "import numpy as np\n",
    "\n",
    "from src.model.similarity import Similarity_Score\n",
    "\n",
    "from sklearn.preprocessing import StandardScaler\n",
    "from sklearn.metrics.pairwise import cosine_similarity\n",
    "\n",
    "pd.set_option('display.float_format', lambda x: '%.2f' % x)"
   ]
  },
  {
   "cell_type": "code",
   "execution_count": 4,
   "metadata": {},
   "outputs": [],
   "source": [
    "path = \"data\""
   ]
  },
  {
   "cell_type": "code",
   "execution_count": 5,
   "metadata": {},
   "outputs": [
    {
     "name": "stderr",
     "output_type": "stream",
     "text": [
      "/Users/ritisha/projects/simple_recommendation/src/model/similarity.py:9: DtypeWarning: Columns (1) have mixed types. Specify dtype option on import or set low_memory=False.\n",
      "  self.similarity_score = pd.read_csv(self.path + \"/features/item_similarity.csv\")\n",
      "/Users/ritisha/projects/simple_recommendation/src/model/similarity.py:10: DtypeWarning: Columns (7) have mixed types. Specify dtype option on import or set low_memory=False.\n",
      "  self.user_feat_df = pd.read_csv(self.path + \"/features/feat_data.csv\")\n"
     ]
    }
   ],
   "source": [
    "sim = Similarity_Score(path=path)"
   ]
  },
  {
   "cell_type": "code",
   "execution_count": 6,
   "metadata": {},
   "outputs": [
    {
     "name": "stdout",
     "output_type": "stream",
     "text": [
      "Top recommendations based on your reading history:\n"
     ]
    },
    {
     "data": {
      "text/html": [
       "<div>\n",
       "<style scoped>\n",
       "    .dataframe tbody tr th:only-of-type {\n",
       "        vertical-align: middle;\n",
       "    }\n",
       "\n",
       "    .dataframe tbody tr th {\n",
       "        vertical-align: top;\n",
       "    }\n",
       "\n",
       "    .dataframe thead th {\n",
       "        text-align: right;\n",
       "    }\n",
       "</style>\n",
       "<table border=\"1\" class=\"dataframe\">\n",
       "  <thead>\n",
       "    <tr style=\"text-align: right;\">\n",
       "      <th></th>\n",
       "      <th>isbn</th>\n",
       "      <th>book_title</th>\n",
       "      <th>book_author</th>\n",
       "      <th>book_rating_mean</th>\n",
       "      <th>book_rating_count</th>\n",
       "      <th>user_item_similarity</th>\n",
       "    </tr>\n",
       "  </thead>\n",
       "  <tbody>\n",
       "    <tr>\n",
       "      <th>40</th>\n",
       "      <td>0553380400</td>\n",
       "      <td>Bingo</td>\n",
       "      <td>Rita Mae Brown</td>\n",
       "      <td>2.50</td>\n",
       "      <td>12.00</td>\n",
       "      <td>0.56</td>\n",
       "    </tr>\n",
       "    <tr>\n",
       "      <th>50</th>\n",
       "      <td>0515124796</td>\n",
       "      <td>Cold Blood</td>\n",
       "      <td>Lynda LA Plante</td>\n",
       "      <td>3.46</td>\n",
       "      <td>13.00</td>\n",
       "      <td>0.39</td>\n",
       "    </tr>\n",
       "    <tr>\n",
       "      <th>77</th>\n",
       "      <td>1551664844</td>\n",
       "      <td>Breaking the Silence</td>\n",
       "      <td>Diane Chamberlain</td>\n",
       "      <td>1.38</td>\n",
       "      <td>13.00</td>\n",
       "      <td>0.37</td>\n",
       "    </tr>\n",
       "    <tr>\n",
       "      <th>102</th>\n",
       "      <td>055356949X</td>\n",
       "      <td>Dolley: A Novel of Dolley Madison in Love and War</td>\n",
       "      <td>Rita Mae Brown</td>\n",
       "      <td>1.50</td>\n",
       "      <td>10.00</td>\n",
       "      <td>0.34</td>\n",
       "    </tr>\n",
       "    <tr>\n",
       "      <th>90</th>\n",
       "      <td>0515090166</td>\n",
       "      <td>The Cat Who Saw Red</td>\n",
       "      <td>Lilian Jackson Braun</td>\n",
       "      <td>2.32</td>\n",
       "      <td>59.00</td>\n",
       "      <td>0.29</td>\n",
       "    </tr>\n",
       "    <tr>\n",
       "      <th>67</th>\n",
       "      <td>1551666472</td>\n",
       "      <td>Cypress Point</td>\n",
       "      <td>Diane Chamberlain</td>\n",
       "      <td>4.00</td>\n",
       "      <td>10.00</td>\n",
       "      <td>0.28</td>\n",
       "    </tr>\n",
       "  </tbody>\n",
       "</table>\n",
       "</div>"
      ],
      "text/plain": [
       "           isbn                                         book_title  \\\n",
       "40   0553380400                                              Bingo   \n",
       "50   0515124796                                         Cold Blood   \n",
       "77   1551664844                               Breaking the Silence   \n",
       "102  055356949X  Dolley: A Novel of Dolley Madison in Love and War   \n",
       "90   0515090166                                The Cat Who Saw Red   \n",
       "67   1551666472                                      Cypress Point   \n",
       "\n",
       "              book_author  book_rating_mean  book_rating_count  \\\n",
       "40         Rita Mae Brown              2.50              12.00   \n",
       "50        Lynda LA Plante              3.46              13.00   \n",
       "77      Diane Chamberlain              1.38              13.00   \n",
       "102        Rita Mae Brown              1.50              10.00   \n",
       "90   Lilian Jackson Braun              2.32              59.00   \n",
       "67      Diane Chamberlain              4.00              10.00   \n",
       "\n",
       "     user_item_similarity  \n",
       "40                   0.56  \n",
       "50                   0.39  \n",
       "77                   0.37  \n",
       "102                  0.34  \n",
       "90                   0.29  \n",
       "67                   0.28  "
      ]
     },
     "execution_count": 6,
     "metadata": {},
     "output_type": "execute_result"
    }
   ],
   "source": [
    "sim.predict(user_id=278854)"
   ]
  },
  {
   "cell_type": "code",
   "execution_count": 7,
   "metadata": {},
   "outputs": [
    {
     "name": "stdout",
     "output_type": "stream",
     "text": [
      "Top rated books for you to get started:\n"
     ]
    },
    {
     "data": {
      "text/html": [
       "<div>\n",
       "<style scoped>\n",
       "    .dataframe tbody tr th:only-of-type {\n",
       "        vertical-align: middle;\n",
       "    }\n",
       "\n",
       "    .dataframe tbody tr th {\n",
       "        vertical-align: top;\n",
       "    }\n",
       "\n",
       "    .dataframe thead th {\n",
       "        text-align: right;\n",
       "    }\n",
       "</style>\n",
       "<table border=\"1\" class=\"dataframe\">\n",
       "  <thead>\n",
       "    <tr style=\"text-align: right;\">\n",
       "      <th></th>\n",
       "      <th>isbn</th>\n",
       "      <th>book_title</th>\n",
       "      <th>book_author</th>\n",
       "      <th>book_rating_mean</th>\n",
       "      <th>book_rating_count</th>\n",
       "      <th>book_rating_weighted</th>\n",
       "    </tr>\n",
       "  </thead>\n",
       "  <tbody>\n",
       "    <tr>\n",
       "      <th>90935</th>\n",
       "      <td>0316666343</td>\n",
       "      <td>The Lovely Bones: A Novel</td>\n",
       "      <td>Alice Sebold</td>\n",
       "      <td>4.47</td>\n",
       "      <td>1295.00</td>\n",
       "      <td>0.23</td>\n",
       "    </tr>\n",
       "    <tr>\n",
       "      <th>547971</th>\n",
       "      <td>0385504209</td>\n",
       "      <td>The Da Vinci Code</td>\n",
       "      <td>Dan Brown</td>\n",
       "      <td>4.65</td>\n",
       "      <td>883.00</td>\n",
       "      <td>0.16</td>\n",
       "    </tr>\n",
       "    <tr>\n",
       "      <th>904862</th>\n",
       "      <td>0312195516</td>\n",
       "      <td>The Red Tent (Bestselling Backlist)</td>\n",
       "      <td>Anita Diamant</td>\n",
       "      <td>4.33</td>\n",
       "      <td>723.00</td>\n",
       "      <td>0.13</td>\n",
       "    </tr>\n",
       "    <tr>\n",
       "      <th>924096</th>\n",
       "      <td>0679781587</td>\n",
       "      <td>NaN</td>\n",
       "      <td>NaN</td>\n",
       "      <td>4.38</td>\n",
       "      <td>639.00</td>\n",
       "      <td>0.11</td>\n",
       "    </tr>\n",
       "    <tr>\n",
       "      <th>288468</th>\n",
       "      <td>059035342X</td>\n",
       "      <td>Harry Potter and the Sorcerer's Stone (Harry P...</td>\n",
       "      <td>J. K. Rowling</td>\n",
       "      <td>4.90</td>\n",
       "      <td>571.00</td>\n",
       "      <td>0.11</td>\n",
       "    </tr>\n",
       "    <tr>\n",
       "      <th>1186504</th>\n",
       "      <td>0142001740</td>\n",
       "      <td>The Secret Life of Bees</td>\n",
       "      <td>Sue Monk Kidd</td>\n",
       "      <td>4.22</td>\n",
       "      <td>615.00</td>\n",
       "      <td>0.10</td>\n",
       "    </tr>\n",
       "  </tbody>\n",
       "</table>\n",
       "</div>"
      ],
      "text/plain": [
       "               isbn                                         book_title  \\\n",
       "90935    0316666343                          The Lovely Bones: A Novel   \n",
       "547971   0385504209                                  The Da Vinci Code   \n",
       "904862   0312195516                The Red Tent (Bestselling Backlist)   \n",
       "924096   0679781587                                                NaN   \n",
       "288468   059035342X  Harry Potter and the Sorcerer's Stone (Harry P...   \n",
       "1186504  0142001740                            The Secret Life of Bees   \n",
       "\n",
       "           book_author  book_rating_mean  book_rating_count  \\\n",
       "90935     Alice Sebold              4.47            1295.00   \n",
       "547971       Dan Brown              4.65             883.00   \n",
       "904862   Anita Diamant              4.33             723.00   \n",
       "924096             NaN              4.38             639.00   \n",
       "288468   J. K. Rowling              4.90             571.00   \n",
       "1186504  Sue Monk Kidd              4.22             615.00   \n",
       "\n",
       "         book_rating_weighted  \n",
       "90935                    0.23  \n",
       "547971                   0.16  \n",
       "904862                   0.13  \n",
       "924096                   0.11  \n",
       "288468                   0.11  \n",
       "1186504                  0.10  "
      ]
     },
     "execution_count": 7,
     "metadata": {},
     "output_type": "execute_result"
    }
   ],
   "source": [
    "#Cold start problem: User has not had any book interactions\n",
    "sim.predict(user_id=\"278853\")"
   ]
  }
 ],
 "metadata": {
  "kernelspec": {
   "display_name": "my-env",
   "language": "python",
   "name": "python3"
  },
  "language_info": {
   "codemirror_mode": {
    "name": "ipython",
    "version": 3
   },
   "file_extension": ".py",
   "mimetype": "text/x-python",
   "name": "python",
   "nbconvert_exporter": "python",
   "pygments_lexer": "ipython3",
   "version": "3.13.0"
  }
 },
 "nbformat": 4,
 "nbformat_minor": 2
}
